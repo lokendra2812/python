{
 "cells": [
  {
   "cell_type": "code",
   "execution_count": 88,
   "id": "90720a0e-0018-4c41-8a3e-d8290bf1dece",
   "metadata": {},
   "outputs": [
    {
     "name": "stdout",
     "output_type": "stream",
     "text": [
      "Total Types of Car Available : \n",
      "['1 for Mercedes', '2 for BMW', '3 for AUDI', '4 for lamborghini']\n"
     ]
    },
    {
     "name": "stdin",
     "output_type": "stream",
     "text": [
      "Enter your choice for Car  1\n"
     ]
    },
    {
     "name": "stdout",
     "output_type": "stream",
     "text": [
      "Total Available Mercedes =  4\n"
     ]
    },
    {
     "name": "stdin",
     "output_type": "stream",
     "text": [
      "Enter total Mercedes =   2\n"
     ]
    }
   ],
   "source": [
    "run module.py"
   ]
  },
  {
   "cell_type": "code",
   "execution_count": 90,
   "id": "ff2d0ce7-714b-499d-903f-0e21e9bd8a6f",
   "metadata": {},
   "outputs": [
    {
     "ename": "SyntaxError",
     "evalue": "expected ':' (module.py, line 113)",
     "output_type": "error",
     "traceback": [
      "\u001b[0;36m  File \u001b[0;32m~/Lokendra_Data/AI_course/Module_2/project_2/module.py:113\u001b[0;36m\u001b[0m\n\u001b[0;31m    else\u001b[0m\n\u001b[0m        ^\u001b[0m\n\u001b[0;31mSyntaxError\u001b[0m\u001b[0;31m:\u001b[0m expected ':'\n"
     ]
    }
   ],
   "source": [
    "run module.py"
   ]
  },
  {
   "cell_type": "code",
   "execution_count": 92,
   "id": "de756412-a626-4ef6-9aac-68dbf1a84edd",
   "metadata": {},
   "outputs": [
    {
     "name": "stdout",
     "output_type": "stream",
     "text": [
      "Total Types of Car Available : \n",
      "['1 for Mercedes', '2 for BMW', '3 for AUDI', '4 for lamborghini']\n"
     ]
    },
    {
     "name": "stdin",
     "output_type": "stream",
     "text": [
      "Enter your choice for Car  1\n"
     ]
    },
    {
     "name": "stdout",
     "output_type": "stream",
     "text": [
      "Total Available Mercedes =  4\n"
     ]
    },
    {
     "name": "stdin",
     "output_type": "stream",
     "text": [
      "Enter total Mercedes =   3\n"
     ]
    },
    {
     "name": "stdout",
     "output_type": "stream",
     "text": [
      "you have selected {} 3  Mercedes\n"
     ]
    }
   ],
   "source": [
    "run module.py"
   ]
  },
  {
   "cell_type": "code",
   "execution_count": 94,
   "id": "0ac9377c-c367-49d4-891f-2c2c7ffef570",
   "metadata": {},
   "outputs": [
    {
     "name": "stdout",
     "output_type": "stream",
     "text": [
      "Total Types of Car Available : \n",
      "['1 for Mercedes', '2 for BMW', '3 for AUDI', '4 for lamborghini']\n"
     ]
    },
    {
     "name": "stdin",
     "output_type": "stream",
     "text": [
      "Enter your choice for Car  1\n"
     ]
    },
    {
     "name": "stdout",
     "output_type": "stream",
     "text": [
      "Total Available Mercedes =  4\n"
     ]
    },
    {
     "name": "stdin",
     "output_type": "stream",
     "text": [
      "Enter total Mercedes =   3\n"
     ]
    },
    {
     "name": "stdout",
     "output_type": "stream",
     "text": [
      "you have selected  3  Mercedes\n",
      "Remaining Mercedes =  1\n"
     ]
    }
   ],
   "source": [
    "run module.py"
   ]
  },
  {
   "cell_type": "code",
   "execution_count": 96,
   "id": "208aee57-f69b-4d06-b769-8341e1594f54",
   "metadata": {},
   "outputs": [
    {
     "name": "stdout",
     "output_type": "stream",
     "text": [
      "Total Types of Car Available : \n",
      "['1 for Mercedes', '2 for BMW', '3 for AUDI', '4 for lamborghini']\n"
     ]
    },
    {
     "name": "stdin",
     "output_type": "stream",
     "text": [
      "Enter your choice for Car  1\n"
     ]
    },
    {
     "name": "stdout",
     "output_type": "stream",
     "text": [
      "Total Available Mercedes =  4\n"
     ]
    },
    {
     "name": "stdin",
     "output_type": "stream",
     "text": [
      "Enter total Mercedes =   1\n"
     ]
    },
    {
     "name": "stdout",
     "output_type": "stream",
     "text": [
      "you have selected  1  Mercedes\n",
      "Remaining Mercedes =  3\n",
      "Remaining BMW =  3\n",
      "Remaining AUDI =  5\n",
      "Remaining Lamborghini =  2\n"
     ]
    }
   ],
   "source": [
    "run module.py"
   ]
  },
  {
   "cell_type": "code",
   "execution_count": 98,
   "id": "70c73d5e-f67c-4d9b-acd3-6206b934b42c",
   "metadata": {},
   "outputs": [
    {
     "name": "stdout",
     "output_type": "stream",
     "text": [
      "Total Types of Car Available : \n",
      "['1 for Mercedes', '2 for BMW', '3 for AUDI', '4 for lamborghini']\n",
      "['for Mercedes = Rs 5000 per hour',\n",
      " 'for BMW = Rs 5900 per hour',\n",
      " 'for AUDI = Rs 4300 per hour',\n",
      " 'for lamborghini = Rs 6600 per hour']\n"
     ]
    },
    {
     "name": "stdin",
     "output_type": "stream",
     "text": [
      "Enter your choice for Car  1\n"
     ]
    },
    {
     "name": "stdout",
     "output_type": "stream",
     "text": [
      "Total Available Mercedes =  4\n"
     ]
    },
    {
     "name": "stdin",
     "output_type": "stream",
     "text": [
      "Enter total Mercedes =   2\n"
     ]
    },
    {
     "name": "stdout",
     "output_type": "stream",
     "text": [
      "you have selected  2  Mercedes\n",
      "=======================================\n",
      "Remaining Mercedes =  2\n",
      "Remaining BMW =  3\n",
      "Remaining AUDI =  5\n",
      "Remaining Lamborghini =  2\n"
     ]
    }
   ],
   "source": [
    "run module.py"
   ]
  },
  {
   "cell_type": "code",
   "execution_count": 100,
   "id": "4dff3a00-13ca-4b5f-be80-e3b4098e5e95",
   "metadata": {},
   "outputs": [
    {
     "ename": "IndentationError",
     "evalue": "unexpected indent (module.py, line 1)",
     "output_type": "error",
     "traceback": [
      "\u001b[0;36m  File \u001b[0;32m~/Lokendra_Data/AI_course/Module_2/project_2/module.py:1\u001b[0;36m\u001b[0m\n\u001b[0;31m    '''\u001b[0m\n\u001b[0m    ^\u001b[0m\n\u001b[0;31mIndentationError\u001b[0m\u001b[0;31m:\u001b[0m unexpected indent\n"
     ]
    }
   ],
   "source": [
    "run module.py"
   ]
  },
  {
   "cell_type": "code",
   "execution_count": 102,
   "id": "a5640a8a-ea55-4b85-8316-5d4f5ce5acae",
   "metadata": {},
   "outputs": [
    {
     "name": "stdout",
     "output_type": "stream",
     "text": [
      "Total Types of Car Available : \n",
      "['1 for Mercedes', '2 for BMW', '3 for AUDI', '4 for lamborghini']\n",
      "['for Mercedes = Rs 5000 per hour',\n",
      " 'for BMW = Rs 5900 per hour',\n",
      " 'for AUDI = Rs 4300 per hour',\n",
      " 'for lamborghini = Rs 6600 per hour']\n"
     ]
    },
    {
     "name": "stdin",
     "output_type": "stream",
     "text": [
      "Enter your choice for Car  1\n"
     ]
    },
    {
     "name": "stdout",
     "output_type": "stream",
     "text": [
      "Total Available Mercedes =  4\n"
     ]
    },
    {
     "name": "stdin",
     "output_type": "stream",
     "text": [
      "Enter total Mercedes =   1\n"
     ]
    },
    {
     "name": "stdout",
     "output_type": "stream",
     "text": [
      "you have selected  1  Mercedes\n",
      "=======================================\n",
      "Remaining Mercedes =  3\n",
      "Remaining BMW =  3\n",
      "Remaining AUDI =  5\n",
      "Remaining Lamborghini =  2\n"
     ]
    }
   ],
   "source": [
    "run module.py"
   ]
  },
  {
   "cell_type": "code",
   "execution_count": 104,
   "id": "a73b6dc3-b252-48b2-8741-1090d4027999",
   "metadata": {},
   "outputs": [
    {
     "name": "stdout",
     "output_type": "stream",
     "text": [
      "Total Types of Car Available : \n",
      "['1 for Mercedes', '2 for BMW', '3 for AUDI', '4 for lamborghini']\n",
      "['for Mercedes = Rs 5000 per hour',\n",
      " 'for BMW = Rs 5900 per hour',\n",
      " 'for AUDI = Rs 4300 per hour',\n",
      " 'for lamborghini = Rs 6600 per hour']\n"
     ]
    },
    {
     "name": "stdin",
     "output_type": "stream",
     "text": [
      "Enter your choice for Car  1\n"
     ]
    },
    {
     "name": "stdout",
     "output_type": "stream",
     "text": [
      "Total Available Mercedes =  4\n"
     ]
    },
    {
     "name": "stdin",
     "output_type": "stream",
     "text": [
      "Enter total Mercedes =   3\n"
     ]
    },
    {
     "name": "stdout",
     "output_type": "stream",
     "text": [
      "you have selected  3  Mercedes\n",
      "Remaining Mercedes =  1\n",
      "Remaining BMW =  3\n",
      "Remaining AUDI =  5\n",
      "Remaining Lamborghini =  2\n",
      "============== Total Car Availalbe together ========================= 10\n"
     ]
    }
   ],
   "source": [
    "run module.py"
   ]
  },
  {
   "cell_type": "code",
   "execution_count": 106,
   "id": "bb651cec-4c22-4504-92f1-b8ebfe167b8e",
   "metadata": {},
   "outputs": [
    {
     "name": "stdout",
     "output_type": "stream",
     "text": [
      "Total Types of Car Available : \n",
      "['1 for Mercedes', '2 for BMW', '3 for AUDI', '4 for lamborghini']\n",
      "['for Mercedes = Rs 5000 per hour',\n",
      " 'for BMW = Rs 5900 per hour',\n",
      " 'for AUDI = Rs 4300 per hour',\n",
      " 'for lamborghini = Rs 6600 per hour']\n"
     ]
    },
    {
     "name": "stdin",
     "output_type": "stream",
     "text": [
      "Enter your choice for Car  1\n"
     ]
    },
    {
     "name": "stdout",
     "output_type": "stream",
     "text": [
      "Total Available Mercedes =  4\n"
     ]
    },
    {
     "name": "stdin",
     "output_type": "stream",
     "text": [
      "Enter total Mercedes =   3\n"
     ]
    },
    {
     "name": "stdout",
     "output_type": "stream",
     "text": [
      "you have selected  3  Mercedes\n",
      "==========================================================\n",
      "Remaining Mercedes =  1\n",
      "Remaining BMW =  3\n",
      "Remaining AUDI =  5\n",
      "Remaining Lamborghini =  2\n",
      "============== Total Car Availalbe together =========================   10\n"
     ]
    }
   ],
   "source": [
    "run module.py"
   ]
  },
  {
   "cell_type": "code",
   "execution_count": 108,
   "id": "a41460f9-a89c-4e17-90b3-aa90cb0024a8",
   "metadata": {},
   "outputs": [
    {
     "name": "stdout",
     "output_type": "stream",
     "text": [
      "Total Types of Car Available : \n",
      "['1 for Mercedes', '2 for BMW', '3 for AUDI', '4 for lamborghini']\n",
      "['for Mercedes = Rs 5000 per hour',\n",
      " 'for BMW = Rs 5900 per hour',\n",
      " 'for AUDI = Rs 4300 per hour',\n",
      " 'for lamborghini = Rs 6600 per hour']\n"
     ]
    },
    {
     "name": "stdin",
     "output_type": "stream",
     "text": [
      "Enter your choice for Car  1\n"
     ]
    },
    {
     "name": "stdout",
     "output_type": "stream",
     "text": [
      "Total Available Mercedes =  4\n"
     ]
    },
    {
     "name": "stdin",
     "output_type": "stream",
     "text": [
      "Enter total Mercedes =   2\n"
     ]
    },
    {
     "name": "stdout",
     "output_type": "stream",
     "text": [
      "you have selected  2  Mercedes\n",
      "==========================================================\n",
      "Remaining Mercedes =  2\n",
      "Remaining BMW =  3\n",
      "Remaining AUDI =  5\n",
      "Remaining Lamborghini =  2\n",
      "Unexpected exception formatting exception. Falling back to standard exception\n"
     ]
    },
    {
     "name": "stderr",
     "output_type": "stream",
     "text": [
      "Traceback (most recent call last):\n",
      "  File \"/home/user/anaconda3/lib/python3.11/site-packages/IPython/core/interactiveshell.py\", line 2908, in safe_execfile\n",
      "    py3compat.execfile(\n",
      "  File \"/home/user/anaconda3/lib/python3.11/site-packages/IPython/utils/py3compat.py\", line 55, in execfile\n",
      "    exec(compiler(f.read(), fname, \"exec\"), glob, loc)\n",
      "  File \"/home/user/Lokendra_Data/AI_course/Module_2/project_2/module.py\", line 131, in <module>\n",
      "    print(\"============== Total Car Availalbe together =========================  \",customer.available_cars())\n",
      "                                                                                   ^^^^^^^^^^^^^^^^^^^^^^^^^\n",
      "  File \"/home/user/Lokendra_Data/AI_course/Module_2/project_2/module.py\", line 37, in available_cars\n",
      "    return (self.self.Mercedes+self.BMW+self.AUDI+self.Lamborghini)\n",
      "            ^^^^^^^^^\n",
      "AttributeError: 'Customers' object has no attribute 'self'\n",
      "\n",
      "During handling of the above exception, another exception occurred:\n",
      "\n",
      "Traceback (most recent call last):\n",
      "  File \"/home/user/anaconda3/lib/python3.11/site-packages/IPython/core/interactiveshell.py\", line 2144, in showtraceback\n",
      "    stb = self.InteractiveTB.structured_traceback(\n",
      "          ^^^^^^^^^^^^^^^^^^^^^^^^^^^^^^^^^^^^^^^^\n",
      "  File \"/home/user/anaconda3/lib/python3.11/site-packages/IPython/core/ultratb.py\", line 1435, in structured_traceback\n",
      "    return FormattedTB.structured_traceback(\n",
      "           ^^^^^^^^^^^^^^^^^^^^^^^^^^^^^^^^^\n",
      "  File \"/home/user/anaconda3/lib/python3.11/site-packages/IPython/core/ultratb.py\", line 1326, in structured_traceback\n",
      "    return VerboseTB.structured_traceback(\n",
      "           ^^^^^^^^^^^^^^^^^^^^^^^^^^^^^^^\n",
      "  File \"/home/user/anaconda3/lib/python3.11/site-packages/IPython/core/ultratb.py\", line 1173, in structured_traceback\n",
      "    formatted_exception = self.format_exception_as_a_whole(etype, evalue, etb, number_of_lines_of_context,\n",
      "                          ^^^^^^^^^^^^^^^^^^^^^^^^^^^^^^^^^^^^^^^^^^^^^^^^^^^^^^^^^^^^^^^^^^^^^^^^^^^^^^^^\n",
      "  File \"/home/user/anaconda3/lib/python3.11/site-packages/IPython/core/ultratb.py\", line 1088, in format_exception_as_a_whole\n",
      "    frames.append(self.format_record(record))\n",
      "                  ^^^^^^^^^^^^^^^^^^^^^^^^^^\n",
      "  File \"/home/user/anaconda3/lib/python3.11/site-packages/IPython/core/ultratb.py\", line 970, in format_record\n",
      "    frame_info.lines, Colors, self.has_colors, lvals\n",
      "    ^^^^^^^^^^^^^^^^\n",
      "  File \"/home/user/anaconda3/lib/python3.11/site-packages/IPython/core/ultratb.py\", line 792, in lines\n",
      "    return self._sd.lines\n",
      "           ^^^^^^^^^^^^^^\n",
      "  File \"/home/user/anaconda3/lib/python3.11/site-packages/stack_data/utils.py\", line 145, in cached_property_wrapper\n",
      "    value = obj.__dict__[self.func.__name__] = self.func(obj)\n",
      "                                               ^^^^^^^^^^^^^^\n",
      "  File \"/home/user/anaconda3/lib/python3.11/site-packages/stack_data/core.py\", line 698, in lines\n",
      "    pieces = self.included_pieces\n",
      "             ^^^^^^^^^^^^^^^^^^^^\n",
      "  File \"/home/user/anaconda3/lib/python3.11/site-packages/stack_data/utils.py\", line 145, in cached_property_wrapper\n",
      "    value = obj.__dict__[self.func.__name__] = self.func(obj)\n",
      "                                               ^^^^^^^^^^^^^^\n",
      "  File \"/home/user/anaconda3/lib/python3.11/site-packages/stack_data/core.py\", line 649, in included_pieces\n",
      "    pos = scope_pieces.index(self.executing_piece)\n",
      "                             ^^^^^^^^^^^^^^^^^^^^\n",
      "  File \"/home/user/anaconda3/lib/python3.11/site-packages/stack_data/utils.py\", line 145, in cached_property_wrapper\n",
      "    value = obj.__dict__[self.func.__name__] = self.func(obj)\n",
      "                                               ^^^^^^^^^^^^^^\n",
      "  File \"/home/user/anaconda3/lib/python3.11/site-packages/stack_data/core.py\", line 628, in executing_piece\n",
      "    return only(\n",
      "           ^^^^^\n",
      "  File \"/home/user/anaconda3/lib/python3.11/site-packages/executing/executing.py\", line 164, in only\n",
      "    raise NotOneValueFound('Expected one value, found 0')\n",
      "executing.executing.NotOneValueFound: Expected one value, found 0\n"
     ]
    }
   ],
   "source": [
    "run module.py"
   ]
  },
  {
   "cell_type": "code",
   "execution_count": 110,
   "id": "b27284a8-46e9-448a-b55d-362793b8092b",
   "metadata": {},
   "outputs": [
    {
     "name": "stdout",
     "output_type": "stream",
     "text": [
      "Total Types of Car Available : \n",
      "['1 for Mercedes', '2 for BMW', '3 for AUDI', '4 for lamborghini']\n",
      "['for Mercedes = Rs 5000 per hour',\n",
      " 'for BMW = Rs 5900 per hour',\n",
      " 'for AUDI = Rs 4300 per hour',\n",
      " 'for lamborghini = Rs 6600 per hour']\n"
     ]
    },
    {
     "name": "stdin",
     "output_type": "stream",
     "text": [
      "Enter your choice for Car  1\n"
     ]
    },
    {
     "name": "stdout",
     "output_type": "stream",
     "text": [
      "Total Available Mercedes =  4\n"
     ]
    },
    {
     "name": "stdin",
     "output_type": "stream",
     "text": [
      "Enter total Mercedes =   3\n"
     ]
    },
    {
     "name": "stdout",
     "output_type": "stream",
     "text": [
      "you have selected  3  Mercedes\n",
      "==========================================================\n",
      "Remaining Mercedes =  1\n",
      "Remaining BMW =  3\n",
      "Remaining AUDI =  5\n",
      "Remaining Lamborghini =  2\n",
      "============== Total Car Availalbe together =========================   11\n"
     ]
    }
   ],
   "source": [
    "run module.py"
   ]
  },
  {
   "cell_type": "code",
   "execution_count": 112,
   "id": "e65d14e9-e598-411c-b05b-241e87da9a3a",
   "metadata": {},
   "outputs": [
    {
     "name": "stdout",
     "output_type": "stream",
     "text": [
      "Total Types of Car Available : \n",
      "['1 for Mercedes', '2 for BMW', '3 for AUDI', '4 for lamborghini']\n",
      "['for Mercedes = Rs 5000 per hour',\n",
      " 'for BMW = Rs 5900 per hour',\n",
      " 'for AUDI = Rs 4300 per hour',\n",
      " 'for lamborghini = Rs 6600 per hour']\n"
     ]
    },
    {
     "name": "stdin",
     "output_type": "stream",
     "text": [
      "Enter your choice for Car  2\n"
     ]
    },
    {
     "name": "stdout",
     "output_type": "stream",
     "text": [
      "Total Available BMW =  3\n"
     ]
    },
    {
     "name": "stdin",
     "output_type": "stream",
     "text": [
      "Enter total BMW =   2\n"
     ]
    },
    {
     "name": "stdout",
     "output_type": "stream",
     "text": [
      "you have selected  2  BMW\n",
      "==========================================================\n",
      "Remaining Mercedes =  4\n",
      "Remaining BMW =  1\n",
      "Remaining AUDI =  5\n",
      "Remaining Lamborghini =  2\n",
      "============== Total Car Availalbe together =========================   12\n"
     ]
    }
   ],
   "source": [
    "run module.py\n"
   ]
  },
  {
   "cell_type": "code",
   "execution_count": 114,
   "id": "982546ab-ae75-4143-bb8c-f6941c12207b",
   "metadata": {},
   "outputs": [
    {
     "name": "stdout",
     "output_type": "stream",
     "text": [
      "Total Types of Car Available : \n",
      "['1 for Mercedes', '2 for BMW', '3 for AUDI', '4 for lamborghini']\n",
      "['for Mercedes = Rs 5000 per hour',\n",
      " 'for BMW = Rs 5900 per hour',\n",
      " 'for AUDI = Rs 4300 per hour',\n",
      " 'for lamborghini = Rs 6600 per hour']\n"
     ]
    },
    {
     "name": "stdin",
     "output_type": "stream",
     "text": [
      "Enter your choice for Car  3\n"
     ]
    },
    {
     "name": "stdout",
     "output_type": "stream",
     "text": [
      "Total Available AUDI =  5\n"
     ]
    },
    {
     "name": "stdin",
     "output_type": "stream",
     "text": [
      "Enter total AUDI =   2\n"
     ]
    },
    {
     "name": "stdout",
     "output_type": "stream",
     "text": [
      "you have selected  2  AUDI\n",
      "==========================================================\n",
      "Remaining Mercedes =  4\n",
      "Remaining BMW =  3\n",
      "Remaining AUDI =  3\n",
      "Remaining Lamborghini =  2\n",
      "============== Total Car Availalbe together =========================   12\n"
     ]
    }
   ],
   "source": [
    "run module\n"
   ]
  },
  {
   "cell_type": "code",
   "execution_count": 116,
   "id": "cd473a6a-5d3a-4bc1-9eca-acbe3fff003c",
   "metadata": {},
   "outputs": [
    {
     "name": "stdout",
     "output_type": "stream",
     "text": [
      "Total Types of Car Available : \n",
      "['1 for Mercedes', '2 for BMW', '3 for AUDI', '4 for lamborghini']\n",
      "['for Mercedes = Rs 5000 per hour',\n",
      " 'for BMW = Rs 5900 per hour',\n",
      " 'for AUDI = Rs 4300 per hour',\n",
      " 'for lamborghini = Rs 6600 per hour']\n"
     ]
    },
    {
     "name": "stdin",
     "output_type": "stream",
     "text": [
      "Enter your choice for Car  4\n"
     ]
    },
    {
     "name": "stdout",
     "output_type": "stream",
     "text": [
      "Total Available Lamborghini =  2\n"
     ]
    },
    {
     "name": "stdin",
     "output_type": "stream",
     "text": [
      "Enter total Lamborghini =   2\n"
     ]
    },
    {
     "name": "stdout",
     "output_type": "stream",
     "text": [
      "you have selected  2  Lamborghini\n",
      "==========================================================\n",
      "Remaining Mercedes =  4\n",
      "Remaining BMW =  3\n",
      "Remaining AUDI =  5\n",
      "Remaining Lamborghini =  0\n",
      "============== Total Car Availalbe together =========================   12\n"
     ]
    }
   ],
   "source": [
    "run module\n"
   ]
  },
  {
   "cell_type": "code",
   "execution_count": 118,
   "id": "6b164d0e-48b5-4917-ae21-06e2683e5c3f",
   "metadata": {},
   "outputs": [
    {
     "name": "stdout",
     "output_type": "stream",
     "text": [
      "Total Types of Car Available : \n",
      "['1 for Mercedes', '2 for BMW', '3 for AUDI', '4 for lamborghini']\n",
      "['for Mercedes = Rs 5000 per hour',\n",
      " 'for BMW = Rs 5900 per hour',\n",
      " 'for AUDI = Rs 4300 per hour',\n",
      " 'for lamborghini = Rs 6600 per hour']\n"
     ]
    },
    {
     "name": "stdin",
     "output_type": "stream",
     "text": [
      "Enter your choice for Car  1\n"
     ]
    },
    {
     "name": "stdout",
     "output_type": "stream",
     "text": [
      "Total Available Mercedes =  4\n"
     ]
    },
    {
     "name": "stdin",
     "output_type": "stream",
     "text": [
      "Enter total Mercedes =   3\n"
     ]
    },
    {
     "name": "stdout",
     "output_type": "stream",
     "text": [
      "you have selected  3  Mercedes\n",
      "------------Please Select Mode of Rent--------------------\n",
      "for hourly basis enter 1 :\n",
      "for daily basis enter 2 :\n",
      "for weekly basis enter 3 :\n"
     ]
    },
    {
     "name": "stdin",
     "output_type": "stream",
     "text": [
      "Please Enter your choice :  1\n"
     ]
    },
    {
     "name": "stdout",
     "output_type": "stream",
     "text": [
      "Unexpected exception formatting exception. Falling back to standard exception\n"
     ]
    },
    {
     "name": "stderr",
     "output_type": "stream",
     "text": [
      "Traceback (most recent call last):\n",
      "  File \"/home/user/anaconda3/lib/python3.11/site-packages/IPython/core/interactiveshell.py\", line 2908, in safe_execfile\n",
      "    py3compat.execfile(\n",
      "  File \"/home/user/anaconda3/lib/python3.11/site-packages/IPython/utils/py3compat.py\", line 55, in execfile\n",
      "    exec(compiler(f.read(), fname, \"exec\"), glob, loc)\n",
      "  File \"/home/user/Lokendra_Data/AI_course/Module_2/project_2/module.py\", line 133, in <module>\n",
      "    self.rental_mode_mercedes = int(input(\"Please Enter your choice : \"))\n",
      "    ^^^^\n",
      "NameError: name 'self' is not defined\n",
      "\n",
      "During handling of the above exception, another exception occurred:\n",
      "\n",
      "Traceback (most recent call last):\n",
      "  File \"/home/user/anaconda3/lib/python3.11/site-packages/IPython/core/interactiveshell.py\", line 2144, in showtraceback\n",
      "    stb = self.InteractiveTB.structured_traceback(\n",
      "          ^^^^^^^^^^^^^^^^^^^^^^^^^^^^^^^^^^^^^^^^\n",
      "  File \"/home/user/anaconda3/lib/python3.11/site-packages/IPython/core/ultratb.py\", line 1435, in structured_traceback\n",
      "    return FormattedTB.structured_traceback(\n",
      "           ^^^^^^^^^^^^^^^^^^^^^^^^^^^^^^^^^\n",
      "  File \"/home/user/anaconda3/lib/python3.11/site-packages/IPython/core/ultratb.py\", line 1326, in structured_traceback\n",
      "    return VerboseTB.structured_traceback(\n",
      "           ^^^^^^^^^^^^^^^^^^^^^^^^^^^^^^^\n",
      "  File \"/home/user/anaconda3/lib/python3.11/site-packages/IPython/core/ultratb.py\", line 1173, in structured_traceback\n",
      "    formatted_exception = self.format_exception_as_a_whole(etype, evalue, etb, number_of_lines_of_context,\n",
      "                          ^^^^^^^^^^^^^^^^^^^^^^^^^^^^^^^^^^^^^^^^^^^^^^^^^^^^^^^^^^^^^^^^^^^^^^^^^^^^^^^^\n",
      "  File \"/home/user/anaconda3/lib/python3.11/site-packages/IPython/core/ultratb.py\", line 1088, in format_exception_as_a_whole\n",
      "    frames.append(self.format_record(record))\n",
      "                  ^^^^^^^^^^^^^^^^^^^^^^^^^^\n",
      "  File \"/home/user/anaconda3/lib/python3.11/site-packages/IPython/core/ultratb.py\", line 970, in format_record\n",
      "    frame_info.lines, Colors, self.has_colors, lvals\n",
      "    ^^^^^^^^^^^^^^^^\n",
      "  File \"/home/user/anaconda3/lib/python3.11/site-packages/IPython/core/ultratb.py\", line 792, in lines\n",
      "    return self._sd.lines\n",
      "           ^^^^^^^^^^^^^^\n",
      "  File \"/home/user/anaconda3/lib/python3.11/site-packages/stack_data/utils.py\", line 145, in cached_property_wrapper\n",
      "    value = obj.__dict__[self.func.__name__] = self.func(obj)\n",
      "                                               ^^^^^^^^^^^^^^\n",
      "  File \"/home/user/anaconda3/lib/python3.11/site-packages/stack_data/core.py\", line 698, in lines\n",
      "    pieces = self.included_pieces\n",
      "             ^^^^^^^^^^^^^^^^^^^^\n",
      "  File \"/home/user/anaconda3/lib/python3.11/site-packages/stack_data/utils.py\", line 145, in cached_property_wrapper\n",
      "    value = obj.__dict__[self.func.__name__] = self.func(obj)\n",
      "                                               ^^^^^^^^^^^^^^\n",
      "  File \"/home/user/anaconda3/lib/python3.11/site-packages/stack_data/core.py\", line 649, in included_pieces\n",
      "    pos = scope_pieces.index(self.executing_piece)\n",
      "                             ^^^^^^^^^^^^^^^^^^^^\n",
      "  File \"/home/user/anaconda3/lib/python3.11/site-packages/stack_data/utils.py\", line 145, in cached_property_wrapper\n",
      "    value = obj.__dict__[self.func.__name__] = self.func(obj)\n",
      "                                               ^^^^^^^^^^^^^^\n",
      "  File \"/home/user/anaconda3/lib/python3.11/site-packages/stack_data/core.py\", line 628, in executing_piece\n",
      "    return only(\n",
      "           ^^^^^\n",
      "  File \"/home/user/anaconda3/lib/python3.11/site-packages/executing/executing.py\", line 164, in only\n",
      "    raise NotOneValueFound('Expected one value, found 0')\n",
      "executing.executing.NotOneValueFound: Expected one value, found 0\n"
     ]
    }
   ],
   "source": [
    "run module\n"
   ]
  },
  {
   "cell_type": "code",
   "execution_count": 120,
   "id": "310069d7-366d-4068-ac30-4ac1e9c8e37d",
   "metadata": {},
   "outputs": [
    {
     "name": "stdout",
     "output_type": "stream",
     "text": [
      "Total Types of Car Available : \n",
      "['1 for Mercedes', '2 for BMW', '3 for AUDI', '4 for lamborghini']\n",
      "['for Mercedes = Rs 5000 per hour',\n",
      " 'for BMW = Rs 5900 per hour',\n",
      " 'for AUDI = Rs 4300 per hour',\n",
      " 'for lamborghini = Rs 6600 per hour']\n"
     ]
    },
    {
     "name": "stdin",
     "output_type": "stream",
     "text": [
      "Enter your choice for Car  1\n"
     ]
    },
    {
     "name": "stdout",
     "output_type": "stream",
     "text": [
      "Total Available Mercedes =  4\n"
     ]
    },
    {
     "name": "stdin",
     "output_type": "stream",
     "text": [
      "Enter total Mercedes =   3\n"
     ]
    },
    {
     "name": "stdout",
     "output_type": "stream",
     "text": [
      "you have selected  3  Mercedes\n",
      "------------Please Select Mode of Rent--------------------\n",
      "for hourly basis enter 1 :\n",
      "for daily basis enter 2 :\n",
      "for weekly basis enter 3 :\n"
     ]
    },
    {
     "name": "stdin",
     "output_type": "stream",
     "text": [
      "Please Enter your choice :  1\n"
     ]
    },
    {
     "name": "stdout",
     "output_type": "stream",
     "text": [
      "==========================================================\n",
      "Remaining Mercedes =  1\n",
      "Remaining BMW =  3\n",
      "Remaining AUDI =  5\n",
      "Remaining Lamborghini =  2\n",
      "============== Total Car Availalbe together =========================   11\n",
      "Total Time used = \n",
      "Total Bill  =  50000\n"
     ]
    }
   ],
   "source": [
    "run module\n"
   ]
  },
  {
   "cell_type": "code",
   "execution_count": null,
   "id": "02d8452b-2bfb-4add-8053-2d3e8578d0d5",
   "metadata": {},
   "outputs": [],
   "source": []
  }
 ],
 "metadata": {
  "kernelspec": {
   "display_name": "Python 3 (ipykernel)",
   "language": "python",
   "name": "python3"
  },
  "language_info": {
   "codemirror_mode": {
    "name": "ipython",
    "version": 3
   },
   "file_extension": ".py",
   "mimetype": "text/x-python",
   "name": "python",
   "nbconvert_exporter": "python",
   "pygments_lexer": "ipython3",
   "version": "3.11.7"
  }
 },
 "nbformat": 4,
 "nbformat_minor": 5
}
